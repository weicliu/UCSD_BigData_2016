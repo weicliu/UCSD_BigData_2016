{
 "cells": [
  {
   "cell_type": "markdown",
   "metadata": {},
   "source": [
    "## Practice Final Exam Questions"
   ]
  },
  {
   "cell_type": "markdown",
   "metadata": {},
   "source": [
    "### Warm-up Questions"
   ]
  },
  {
   "cell_type": "markdown",
   "metadata": {},
   "source": [
    "1.)\n",
    "\n",
    "Print the number of elements in the RDD B\n",
    "\n",
    "Print the first five elements of RDD B"
   ]
  },
  {
   "cell_type": "code",
   "execution_count": 2,
   "metadata": {
    "collapsed": false
   },
   "outputs": [
    {
     "name": "stdout",
     "output_type": "stream",
     "text": [
      "10000\n",
      "[0, 1, 2, 3, 4]\n"
     ]
    }
   ],
   "source": [
    "n=10000;\n",
    "B=sc.parallelize(range(n))\n",
    "\n",
    "## Your answer here\n",
    "print B.count()\n",
    "#print B.first(5) -> B.first() !!!\n",
    "print B.take(5)"
   ]
  },
  {
   "cell_type": "markdown",
   "metadata": {},
   "source": [
    "2.) **REVIEW**\n",
    "\n",
    "Given an RDD of words, find and output one of the longest words"
   ]
  },
  {
   "cell_type": "code",
   "execution_count": 12,
   "metadata": {
    "collapsed": false
   },
   "outputs": [
    {
     "name": "stdout",
     "output_type": "stream",
     "text": [
      "CPU times: user 2 µs, sys: 1 µs, total: 3 µs\n",
      "Wall time: 5.01 µs\n"
     ]
    },
    {
     "data": {
      "text/plain": [
       "'jupyter'"
      ]
     },
     "execution_count": 12,
     "metadata": {},
     "output_type": "execute_result"
    }
   ],
   "source": [
    "%time\n",
    "words=['this','is','the','best','mac','ever','jupyter']\n",
    "wordRDD=sc.parallelize(words)\n",
    "\n",
    "## Your answer here\n",
    "# sortByKey(boolean ascending, int numPartitions), return A NEW RDD\n",
    "sorted = wordRDD.map(lambda x: (len(x), x)).sortByKey(False)\n",
    "sorted.collect()[0][1]"
   ]
  },
  {
   "cell_type": "code",
   "execution_count": 9,
   "metadata": {
    "collapsed": false
   },
   "outputs": [
    {
     "name": "stdout",
     "output_type": "stream",
     "text": [
      "CPU times: user 2 µs, sys: 1e+03 ns, total: 3 µs\n",
      "Wall time: 5.96 µs\n"
     ]
    },
    {
     "data": {
      "text/plain": [
       "'jupyter'"
      ]
     },
     "execution_count": 9,
     "metadata": {},
     "output_type": "execute_result"
    }
   ],
   "source": [
    "%time\n",
    "words=['this','is','the','best','mac','ever','jupyter']\n",
    "wordRDD=sc.parallelize(words)\n",
    "wordRDD.sortBy(lambda x: len(x), False).collect()[0]"
   ]
  },
  {
   "cell_type": "code",
   "execution_count": 11,
   "metadata": {
    "collapsed": false
   },
   "outputs": [
    {
     "name": "stdout",
     "output_type": "stream",
     "text": [
      "CPU times: user 2 µs, sys: 1 µs, total: 3 µs\n",
      "Wall time: 5.96 µs\n"
     ]
    },
    {
     "data": {
      "text/plain": [
       "'jupyter'"
      ]
     },
     "execution_count": 11,
     "metadata": {},
     "output_type": "execute_result"
    }
   ],
   "source": [
    "%time\n",
    "wordRDD.reduce(lambda x, y: y if len(x) < len(y) else x)"
   ]
  },
  {
   "cell_type": "markdown",
   "metadata": {},
   "source": [
    "3.)\n",
    "\n",
    "Remove duplicate elements in RDD"
   ]
  },
  {
   "cell_type": "code",
   "execution_count": 6,
   "metadata": {
    "collapsed": false
   },
   "outputs": [
    {
     "data": {
      "text/plain": [
       "[1, 2, 3]"
      ]
     },
     "execution_count": 6,
     "metadata": {},
     "output_type": "execute_result"
    }
   ],
   "source": [
    "DuplicateRDD = sc.parallelize([1,1,2,2,3,3])\n",
    "\n",
    "## Your answer here\n",
    "DuplicateRDD.distinct().collect()"
   ]
  },
  {
   "cell_type": "markdown",
   "metadata": {},
   "source": [
    "4.) **REVIEW**\n",
    "\n",
    "Given an RDD, create a new RDD where each element appears twice"
   ]
  },
  {
   "cell_type": "code",
   "execution_count": 2,
   "metadata": {
    "collapsed": false
   },
   "outputs": [
    {
     "data": {
      "text/plain": [
       "[0, 0, 1, 1, 2, 2, 3, 3, 4, 4]"
      ]
     },
     "execution_count": 2,
     "metadata": {},
     "output_type": "execute_result"
    }
   ],
   "source": [
    "A=sc.parallelize(range(5))\n",
    "\n",
    "## Your answer here\n",
    "A.flatMap(lambda x:[x, x]).collect()"
   ]
  },
  {
   "cell_type": "markdown",
   "metadata": {},
   "source": [
    "5.)\n",
    "\n",
    "Count how many positive numbers are there in the RDD?"
   ]
  },
  {
   "cell_type": "code",
   "execution_count": 8,
   "metadata": {
    "collapsed": false
   },
   "outputs": [
    {
     "data": {
      "text/plain": [
       "19"
      ]
     },
     "execution_count": 8,
     "metadata": {},
     "output_type": "execute_result"
    }
   ],
   "source": [
    "B=sc.parallelize(range(-10,20))\n",
    "\n",
    "## Your answer here\n",
    "B.filter(lambda x: x > 0).count() # don't need to collect"
   ]
  },
  {
   "cell_type": "markdown",
   "metadata": {},
   "source": [
    "### Pair RDD Questions"
   ]
  },
  {
   "cell_type": "markdown",
   "metadata": {},
   "source": [
    "6.)\n",
    "\n",
    "Compute and print the largest value for each key in this pair RDD"
   ]
  },
  {
   "cell_type": "code",
   "execution_count": 4,
   "metadata": {
    "collapsed": false
   },
   "outputs": [
    {
     "data": {
      "text/plain": [
       "(2, 4)"
      ]
     },
     "execution_count": 4,
     "metadata": {},
     "output_type": "execute_result"
    }
   ],
   "source": [
    "PairRDD = sc.parallelize([(1,2), (2,4), (2,6)])\n",
    "\n",
    "## Your answer here\n",
    "# Do I need to sort???\n",
    "PairRDD_sorted = PairRDD.sortByKey(False)\n",
    "PairRDD_sorted.first()"
   ]
  },
  {
   "cell_type": "markdown",
   "metadata": {},
   "source": [
    "7.)\n",
    "\n",
    "Sort a pair RDD by key and print the result"
   ]
  },
  {
   "cell_type": "code",
   "execution_count": 5,
   "metadata": {
    "collapsed": false
   },
   "outputs": [
    {
     "data": {
      "text/plain": [
       "[(1, 4), (2, 2), (2, 1), (3, 6)]"
      ]
     },
     "execution_count": 5,
     "metadata": {},
     "output_type": "execute_result"
    }
   ],
   "source": [
    "PairRDD = sc.parallelize([(2,2),(1,4),(3,6),(2,1)])\n",
    "\n",
    "## Your answer here\n",
    "PairRDD.sortByKey().collect()"
   ]
  },
  {
   "cell_type": "markdown",
   "metadata": {},
   "source": [
    "8.)\n",
    "\n",
    "Perform the following transformation:\n",
    "\n",
    "Original RDD : `[(1, 2), (2, 4), (2, 6)]`\n",
    "\n",
    "After transformation :  `[(2, [4, 6]), (1, [2])]`"
   ]
  },
  {
   "cell_type": "code",
   "execution_count": 9,
   "metadata": {
    "collapsed": false
   },
   "outputs": [
    {
     "data": {
      "text/plain": [
       "[(2, [[4, 6], 5]), (1, 2)]"
      ]
     },
     "execution_count": 9,
     "metadata": {},
     "output_type": "execute_result"
    }
   ],
   "source": [
    "## Your answer here\n",
    "Original = sc.parallelize([(1, 2), (2, 4), (2, 6)])\n",
    "# reduceByKey(func), [combineByKey]\n",
    "Transformed = Original.reduceByKey(lambda x, y: [x, y]) #??\n",
    "Transformed = Transformed.sortByKey(False) #!!!\n",
    "Transformed.collect()"
   ]
  },
  {
   "cell_type": "markdown",
   "metadata": {},
   "source": [
    "9.)\n",
    "\n",
    "Given two pair RDDs A and B, create the following RDD\n",
    "\n",
    "`[('adam', ('kalai', None)),\n",
    " ('vaclav', (None, 'M')),\n",
    " ('john', ('dow', 'M')),\n",
    " ('beth', ('simon', 'F'))]`"
   ]
  },
  {
   "cell_type": "code",
   "execution_count": 11,
   "metadata": {
    "collapsed": false
   },
   "outputs": [
    {
     "data": {
      "text/plain": [
       "[('john', ('dow', 'M')),\n",
       " ('beth', ('simon', 'F')),\n",
       " ('adam', ('kalai', None)),\n",
       " ('vaclav', (None, 'M'))]"
      ]
     },
     "execution_count": 11,
     "metadata": {},
     "output_type": "execute_result"
    }
   ],
   "source": [
    "A=sc.parallelize([('john','dow'),('adam','kalai'),('beth','simon')])\n",
    "B=sc.parallelize([('beth','F'),('john','M'),('vaclav','M')])\n",
    "\n",
    "## Your answer here\n",
    "# different joins**\n",
    "C=A.fullOuterJoin(B)\n",
    "C.collect()"
   ]
  },
  {
   "cell_type": "markdown",
   "metadata": {},
   "source": [
    "### Statistics Questions"
   ]
  },
  {
   "cell_type": "markdown",
   "metadata": {},
   "source": [
    "10.)\n",
    "\n",
    "Suppose X is an RDD where each element is a floating point value. Write code to **efficiently** compute a good **approximation** of the median value?"
   ]
  },
  {
   "cell_type": "code",
   "execution_count": null,
   "metadata": {
    "collapsed": true
   },
   "outputs": [],
   "source": [
    "from numpy.random import rand\n",
    "X=sc.parallelize(rand(10000000)/2)\n",
    "\n",
    "## Your answer here"
   ]
  },
  {
   "cell_type": "markdown",
   "metadata": {},
   "source": [
    "11.)\n",
    "\n",
    "For the same RDD in Q-10, compute the mean and the standard deviation."
   ]
  },
  {
   "cell_type": "code",
   "execution_count": null,
   "metadata": {
    "collapsed": true
   },
   "outputs": [],
   "source": [
    "## Your answer here"
   ]
  },
  {
   "cell_type": "markdown",
   "metadata": {},
   "source": [
    "12.) \n",
    "\n",
    "Suppose R is an RDD of tuples, each tuple containing two floating point numbers $(x,y)$. Compute the covariance of $x$ and $y$ using a single pass over the RDD."
   ]
  },
  {
   "cell_type": "code",
   "execution_count": null,
   "metadata": {
    "collapsed": true
   },
   "outputs": [],
   "source": [
    "n=10000\n",
    "a=rand(n); b=rand(n)\n",
    "R=sc.parallelize(zip(5*a+b,5*a-b))\n",
    "\n",
    "## Your answer here"
   ]
  },
  {
   "cell_type": "markdown",
   "metadata": {},
   "source": [
    "13.)\n",
    "\n",
    "Suppose R is an RDD that contains integer numbers in the range 0 to 3. Write code to efficiently compute and plot an approximate histogram."
   ]
  },
  {
   "cell_type": "code",
   "execution_count": null,
   "metadata": {
    "collapsed": true
   },
   "outputs": [],
   "source": [
    "X=([0]*10000+[1]*23000+[2]*15532+[3]*10000)\n",
    "keys=rand(len(X))\n",
    "R=sc.parallelize(zip(keys,X)).cache()\n",
    "R=R.repartitionAndSortWithinPartitions(2).map(lambda x:x[1])\n",
    "\n",
    "## Your answer here"
   ]
  }
 ],
 "metadata": {
  "kernelspec": {
   "display_name": "Python 2",
   "language": "python",
   "name": "python2"
  },
  "language_info": {
   "codemirror_mode": {
    "name": "ipython",
    "version": 2
   },
   "file_extension": ".py",
   "mimetype": "text/x-python",
   "name": "python",
   "nbconvert_exporter": "python",
   "pygments_lexer": "ipython2",
   "version": "2.7.11"
  }
 },
 "nbformat": 4,
 "nbformat_minor": 0
}
