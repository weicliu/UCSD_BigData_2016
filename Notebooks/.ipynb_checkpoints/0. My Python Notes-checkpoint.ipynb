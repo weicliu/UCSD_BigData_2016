{
 "cells": [
  {
   "cell_type": "markdown",
   "metadata": {},
   "source": [
    "# Python Basics\n",
    "\n",
    "* Everything is an object.\n",
    "* Pass by reference."
   ]
  },
  {
   "cell_type": "markdown",
   "metadata": {},
   "source": [
    "**`==` and `is`**\n",
    "* The statement `is` is used for object identity, it checks if objects refer to the same instance (same address in memory).\n",
    "* And the `==` statement refers to equality (same value).\n",
    "* A very common use of `is` and `is not` is to check if avariable is `None`, since there is only one instance of None."
   ]
  },
  {
   "cell_type": "code",
   "execution_count": 2,
   "metadata": {
    "collapsed": false
   },
   "outputs": [
    {
     "name": "stdout",
     "output_type": "stream",
     "text": [
      "a is b:  True\n",
      "a is c:  False\n",
      "a == c:  True\n"
     ]
    }
   ],
   "source": [
    "a = [1, 2, 3]\n",
    "b = a\n",
    "c = list(a)\n",
    "print \"a is b: \", a is b\n",
    "print \"a is c: \", a is c\n",
    "print \"a == c: \", a == c"
   ]
  },
  {
   "cell_type": "markdown",
   "metadata": {},
   "source": [
    "**Comparing Sequences and Other Types**\n",
    "\n",
    "* The comparison uses lexicographical ordering.\n",
    "* Lexicographical ordering for strings uses the ASCII ordering for individual characters.\n",
    "\n",
    "`'ABC' < 'C' < 'Pascal' < 'Python'`\n",
    "\n",
    "See [docs](https://docs.python.org/2/tutorial/datastructures.html#comparing-sequences-and-other-types).\n",
    "\n",
    "\n"
   ]
  },
  {
   "cell_type": "markdown",
   "metadata": {},
   "source": [
    "## Test programs"
   ]
  },
  {
   "cell_type": "markdown",
   "metadata": {},
   "source": [
    "Map key to each item in the value list"
   ]
  },
  {
   "cell_type": "code",
   "execution_count": 2,
   "metadata": {
    "collapsed": false
   },
   "outputs": [
    {
     "data": {
      "text/plain": [
       "[(1, 1), (1, 2), (1, 3), (2, 4), (2, 5), (2, 76)]"
      ]
     },
     "execution_count": 2,
     "metadata": {},
     "output_type": "execute_result"
    }
   ],
   "source": [
    "RDD = sc.parallelize([(1, [1, 2, 3]), (2, [4, 5, 76])])\n",
    "RDD.flatMapValues(lambda x: iter(x)).collect()"
   ]
  },
  {
   "cell_type": "code",
   "execution_count": null,
   "metadata": {
    "collapsed": true
   },
   "outputs": [],
   "source": []
  }
 ],
 "metadata": {
  "kernelspec": {
   "display_name": "Python 2",
   "language": "python",
   "name": "python2"
  },
  "language_info": {
   "codemirror_mode": {
    "name": "ipython",
    "version": 2
   },
   "file_extension": ".py",
   "mimetype": "text/x-python",
   "name": "python",
   "nbconvert_exporter": "python",
   "pygments_lexer": "ipython2",
   "version": "2.7.11"
  }
 },
 "nbformat": 4,
 "nbformat_minor": 0
}
