{
 "cells": [
  {
   "cell_type": "markdown",
   "metadata": {},
   "source": [
    "# Python Basics\n",
    "\n",
    "* Everything is an object.\n",
    "* Pass by reference."
   ]
  },
  {
   "cell_type": "markdown",
   "metadata": {},
   "source": [
    "**`==` and `is`**\n",
    "* The statement `is` is used for object identity, it checks if objects refer to the same instance (same address in memory).\n",
    "* And the `==` statement refers to equality (same value).\n",
    "* A very common use of `is` and `is not` is to check if avariable is `None`, since there is only one instance of None."
   ]
  },
  {
   "cell_type": "code",
   "execution_count": 2,
   "metadata": {
    "collapsed": false
   },
   "outputs": [
    {
     "name": "stdout",
     "output_type": "stream",
     "text": [
      "a is b:  True\n",
      "a is c:  False\n",
      "a == c:  True\n"
     ]
    }
   ],
   "source": [
    "a = [1, 2, 3]\n",
    "b = a\n",
    "c = list(a)\n",
    "print \"a is b: \", a is b\n",
    "print \"a is c: \", a is c\n",
    "print \"a == c: \", a == c"
   ]
  },
  {
   "cell_type": "markdown",
   "metadata": {},
   "source": [
    "**Comparing Sequences and Other Types**\n",
    "\n",
    "* The comparison uses lexicographical ordering.\n",
    "* Lexicographical ordering for strings uses the ASCII ordering for individual characters.\n",
    "\n",
    "`'ABC' < 'C' < 'Pascal' < 'Python'`\n",
    "\n",
    "See [docs](https://docs.python.org/2/tutorial/datastructures.html#comparing-sequences-and-other-types).\n",
    "\n",
    "\n"
   ]
  },
  {
   "cell_type": "markdown",
   "metadata": {},
   "source": [
    "## Test programs"
   ]
  },
  {
   "cell_type": "markdown",
   "metadata": {},
   "source": [
    "Map key to each item in the value list"
   ]
  },
  {
   "cell_type": "code",
   "execution_count": 2,
   "metadata": {
    "collapsed": false
   },
   "outputs": [
    {
     "data": {
      "text/plain": [
       "[(1, 1), (1, 2), (1, 3), (2, 4), (2, 5), (2, 76)]"
      ]
     },
     "execution_count": 2,
     "metadata": {},
     "output_type": "execute_result"
    }
   ],
   "source": [
    "RDD = sc.parallelize([(1, [1, 2, 3]), (2, [4, 5, 76])])\n",
    "RDD.flatMapValues(lambda x: iter(x)).collect()"
   ]
  },
  {
   "cell_type": "markdown",
   "metadata": {},
   "source": [
    "Union"
   ]
  },
  {
   "cell_type": "code",
   "execution_count": 3,
   "metadata": {
    "collapsed": false
   },
   "outputs": [
    {
     "name": "stdout",
     "output_type": "stream",
     "text": [
      "a [-1, 0]\n",
      "b [1, 2, 3]\n",
      "union [1, 2, 3, -1, 0]\n"
     ]
    }
   ],
   "source": [
    "a = sc.parallelize([-1, 0]) # argument is a list\n",
    "b = sc.parallelize([1, 2, 3])\n",
    "print \"a\", a.collect()\n",
    "print \"b\", b.collect()\n",
    "print \"union\", b.union(a).collect()"
   ]
  },
  {
   "cell_type": "markdown",
   "metadata": {
    "collapsed": true
   },
   "source": [
    "distinct"
   ]
  },
  {
   "cell_type": "code",
   "execution_count": 1,
   "metadata": {
    "collapsed": false
   },
   "outputs": [
    {
     "data": {
      "text/plain": [
       "[0, 2, -1]"
      ]
     },
     "execution_count": 1,
     "metadata": {},
     "output_type": "execute_result"
    }
   ],
   "source": [
    "a = sc.parallelize([-1, 0, 0, 2, -1])\n",
    "a.distinct().collect()"
   ]
  },
  {
   "cell_type": "markdown",
   "metadata": {},
   "source": [
    "key-value map"
   ]
  },
  {
   "cell_type": "code",
   "execution_count": 5,
   "metadata": {
    "collapsed": false
   },
   "outputs": [
    {
     "name": "stdout",
     "output_type": "stream",
     "text": [
      "[(1, 3), (3, 5)]\n"
     ]
    }
   ],
   "source": [
    "a = sc.parallelize([(1, 2), (3, 4)])\n",
    "print a.map(lambda x: (x[0], x[1]+1)).collect()"
   ]
  },
  {
   "cell_type": "code",
   "execution_count": 15,
   "metadata": {
    "collapsed": false
   },
   "outputs": [
    {
     "data": {
      "text/plain": [
       "[[u'foo', {u'bar': [u'baz', None, 1.0, 2]}], None]"
      ]
     },
     "execution_count": 15,
     "metadata": {},
     "output_type": "execute_result"
    }
   ],
   "source": [
    "import ujson\n",
    "\n",
    "raw_data = sc.parallelize(['[\"foo\", {\"bar\":[\"baz\", null, 1.0, 2]}]', \"{a}\"])\n",
    "\n",
    "def safe_parse(raw_json):\n",
    "    # your code here\n",
    "    try:\n",
    "        json_object = ujson.loads(raw_json)\n",
    "    except ValueError, e:\n",
    "        pass # invalid json\n",
    "    else:\n",
    "        return json_object\n",
    "\n",
    "# your code here\n",
    "\n",
    "# convert to json and filter \n",
    "json_data = raw_data.map(lambda x: safe_parse(x))\n",
    "json_data.collect()"
   ]
  },
  {
   "cell_type": "code",
   "execution_count": null,
   "metadata": {
    "collapsed": true
   },
   "outputs": [],
   "source": []
  }
 ],
 "metadata": {
  "kernelspec": {
   "display_name": "Python 2",
   "language": "python",
   "name": "python2"
  },
  "language_info": {
   "codemirror_mode": {
    "name": "ipython",
    "version": 2
   },
   "file_extension": ".py",
   "mimetype": "text/x-python",
   "name": "python",
   "nbconvert_exporter": "python",
   "pygments_lexer": "ipython2",
   "version": "2.7.11"
  }
 },
 "nbformat": 4,
 "nbformat_minor": 0
}
