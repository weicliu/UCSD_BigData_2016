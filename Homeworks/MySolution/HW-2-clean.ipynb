{
 "cells": [
  {
   "cell_type": "code",
   "execution_count": 1,
   "metadata": {
    "collapsed": true
   },
   "outputs": [],
   "source": [
    "# -*- coding: utf-8 -*-\n",
    "\n",
    "# Name: Weichen Liu\n",
    "# Email: wel174@ucsd.edu\n",
    "# PID: A53100198\n",
    "\n",
    "\n",
    "#from pyspark import SparkContext\n",
    "#sc = SparkContext()\n",
    "\n",
    "FILE_LIST = \"../Data/hw2-files.txt\"\n"
   ]
  },
  {
   "cell_type": "markdown",
   "metadata": {},
   "source": [
    "The tweets data is stored on AWS S3. We have in total a little over 1 TB of tweets. We provide 10 MB of tweets for your local development. For the testing and grading on the homework server, we will use different data.\n",
    "\n",
    "## Testing on the homework server\n",
    "In the Playground, we provide three different input sizes to test your program: 1 GB, 10 GB, and 100 GB. To test them, read files list from `../Data/hw2-files-1gb.txt`, `../Data/hw2-files-5gb.txt`, `../Data/hw2-files-20gb.txt`, respectively.\n",
    "\n",
    "For final submission, make sure to read files list from `../Data/hw2-files-final.txt`. Otherwise your program will receive no points.\n",
    "\n",
    "## Local test\n",
    "\n",
    "For local testing, read files list from `../Data/hw2-files.txt`.\n",
    "Now let's see how many lines there are in the input files.\n",
    "\n",
    "1. Make RDD from the list of files in `hw2-files.txt`.\n",
    "2. Mark the RDD to be cached (so in next operation data will be loaded in memory) \n",
    "3. call the `print_count` method to print number of lines in all these files\n",
    "\n",
    "It should print\n",
    "```\n",
    "Number of elements: 2193\n",
    "```"
   ]
  },
  {
   "cell_type": "code",
   "execution_count": 2,
   "metadata": {
    "collapsed": true
   },
   "outputs": [],
   "source": [
    "def print_count(rdd):\n",
    "    print 'Number of elements:', rdd.count()"
   ]
  },
  {
   "cell_type": "code",
   "execution_count": 3,
   "metadata": {
    "collapsed": false
   },
   "outputs": [
    {
     "name": "stdout",
     "output_type": "stream",
     "text": [
      "Number of elements: 2193\n"
     ]
    }
   ],
   "source": [
    "# your code here\n",
    "fn_encode = lambda text: text.encode('utf-8')\n",
    "\n",
    "with open(FILE_LIST) as f:\n",
    "    files = [l.strip() for l in f.readlines()]\n",
    "raw_data = sc.textFile(','.join(files)).cache()\n",
    "print_count(raw_data)"
   ]
  },
  {
   "cell_type": "markdown",
   "metadata": {},
   "source": [
    "# Part 1: Parse JSON strings to JSON objects"
   ]
  },
  {
   "cell_type": "code",
   "execution_count": 7,
   "metadata": {
    "collapsed": false
   },
   "outputs": [
    {
     "data": {
      "text/plain": [
       "[(u'2914597730',\n",
       "  \"@DemDefender @BernieSanders @LordAlmighty12  @HillaryClinton what's Your all not getting it. All politicians are corrupt even the good ones!\"),\n",
       " (u'1634250012',\n",
       "  'The NCAA needs to suspend this bitch Grayson Allen  https://t.co/sV9gVvEbE5'),\n",
       " (u'703327918550679552',\n",
       "  'RT @ninaturner: \"Madam Secretary I will match my record against yours any day.\" -@BernieSanders'),\n",
       " (u'3906077714',\n",
       "  'RT @BernieSanders: I will not deport children from the United States of America. I can make that promise.  #DemDebate'),\n",
       " (u'249995497',\n",
       "  '@kathys_garden  GOP senators scared if they do anything that they will get primaried by another REP. 6 in purple/blue states!')]"
      ]
     },
     "execution_count": 7,
     "metadata": {},
     "output_type": "execute_result"
    }
   ],
   "source": [
    "# %%time\n",
    "\n",
    "import ujson\n",
    "\n",
    "def safe_parse(raw_json):\n",
    "    # your code here\n",
    "    try:\n",
    "        json_object = ujson.loads(raw_json)\n",
    "    except ValueError, e:\n",
    "        pass # invalid json\n",
    "    else:\n",
    "        #return json_object\n",
    "        if \"text\" in json_object:\n",
    "            return (json_object[\"user\"][\"id_str\"], json_object[\"text\"])\n",
    "\n",
    "# your code here\n",
    "\n",
    "# convert to json and filter \n",
    "json_data = raw_data.map(lambda x: safe_parse(x))\n",
    "user_text_pair = json_data.filter(lambda x: x is not None).mapValues(fn_encode).cache()\n",
    "user_text_pair.take(5)"
   ]
  },
  {
   "cell_type": "markdown",
   "metadata": {},
   "source": [
    "(2) Count the number of different users in all valid tweets (hint: [the `distinct()` method](https://spark.apache.org/docs/latest/programming-guide.html#transformations)).\n",
    "\n",
    "It should print\n",
    "```\n",
    "The number of unique users is: 2083\n",
    "```"
   ]
  },
  {
   "cell_type": "code",
   "execution_count": 5,
   "metadata": {
    "collapsed": true
   },
   "outputs": [],
   "source": [
    "def print_users_count(count):\n",
    "    print 'The number of unique users is:', count"
   ]
  },
  {
   "cell_type": "code",
   "execution_count": 6,
   "metadata": {
    "collapsed": false
   },
   "outputs": [
    {
     "name": "stdout",
     "output_type": "stream",
     "text": [
      "The number of unique users is: 2083\n"
     ]
    }
   ],
   "source": [
    "# your code here\n",
    "users = user_text_pair.map(lambda x: x[0]).cache()\n",
    "distinct_users = users.distinct()\n",
    "print_users_count(distinct_users.count())"
   ]
  },
  {
   "cell_type": "markdown",
   "metadata": {},
   "source": [
    "# Part 2: Number of posts from each user partition"
   ]
  },
  {
   "cell_type": "markdown",
   "metadata": {},
   "source": [
    "(1) Load the pickle file."
   ]
  },
  {
   "cell_type": "code",
   "execution_count": 7,
   "metadata": {
    "collapsed": false
   },
   "outputs": [],
   "source": [
    "# your code here\n",
    "import pickle\n",
    "partition = pickle.load(open(\"../Data/users-partition.pickle\", \"r\"))"
   ]
  },
  {
   "cell_type": "markdown",
   "metadata": {},
   "source": [
    "(2) Count the number of posts from each user partition\n",
    "\n",
    "Count the number of posts from group 0, 1, ..., 6, plus the number of posts from users who are not in any partition. Assign users who are not in any partition to the group 7.\n",
    "\n",
    "Put the results of this step into a pair RDD `(group_id, count)` that is sorted by key."
   ]
  },
  {
   "cell_type": "code",
   "execution_count": 8,
   "metadata": {
    "collapsed": false
   },
   "outputs": [],
   "source": [
    "# %%time\n",
    "# your code here\n",
    "\n",
    "group_user_pair = users.map(lambda x: (partition[x], x) if x in partition else (7, x))\n",
    "# (key, count)\n",
    "group_count = group_user_pair.combineByKey(lambda value: 1,\n",
    "                                           lambda x, value: x + 1,\n",
    "                                           lambda x, y: x + y)"
   ]
  },
  {
   "cell_type": "markdown",
   "metadata": {},
   "source": [
    "(3) Print the post count using the `print_post_count` function we provided.\n",
    "\n",
    "It should print\n",
    "\n",
    "```\n",
    "Group 0 posted 81 tweets\n",
    "Group 1 posted 199 tweets\n",
    "Group 2 posted 45 tweets\n",
    "Group 3 posted 313 tweets\n",
    "Group 4 posted 86 tweets\n",
    "Group 5 posted 221 tweets\n",
    "Group 6 posted 400 tweets\n",
    "Group 7 posted 798 tweets\n",
    "```"
   ]
  },
  {
   "cell_type": "code",
   "execution_count": 9,
   "metadata": {
    "collapsed": true
   },
   "outputs": [],
   "source": [
    "def print_post_count(counts):\n",
    "    for group_id, count in counts:\n",
    "        print 'Group %d posted %d tweets' % (group_id, count)"
   ]
  },
  {
   "cell_type": "code",
   "execution_count": 10,
   "metadata": {
    "collapsed": false
   },
   "outputs": [
    {
     "name": "stdout",
     "output_type": "stream",
     "text": [
      "Group 0 posted 81 tweets\n",
      "Group 1 posted 199 tweets\n",
      "Group 2 posted 45 tweets\n",
      "Group 3 posted 313 tweets\n",
      "Group 4 posted 86 tweets\n",
      "Group 5 posted 221 tweets\n",
      "Group 6 posted 400 tweets\n",
      "Group 7 posted 798 tweets\n"
     ]
    }
   ],
   "source": [
    "# your code here\n",
    "sorted_group_count = group_count.sortByKey().collect()\n",
    "print_post_count(sorted_group_count)"
   ]
  },
  {
   "cell_type": "markdown",
   "metadata": {
    "collapsed": true
   },
   "source": [
    "# Part 3:  Tokens that are relatively popular in each user partition"
   ]
  },
  {
   "cell_type": "markdown",
   "metadata": {},
   "source": [
    "(0) Load the tweet tokenizer."
   ]
  },
  {
   "cell_type": "code",
   "execution_count": 11,
   "metadata": {
    "collapsed": true
   },
   "outputs": [],
   "source": [
    "# %load happyfuntokenizing.py\n",
    "#!/usr/bin/env python\n",
    "\n",
    "\"\"\"\n",
    "This code implements a basic, Twitter-aware tokenizer.\n",
    "\n",
    "A tokenizer is a function that splits a string of text into words. In\n",
    "Python terms, we map string and unicode objects into lists of unicode\n",
    "objects.\n",
    "\n",
    "There is not a single right way to do tokenizing. The best method\n",
    "depends on the application.  This tokenizer is designed to be flexible\n",
    "and this easy to adapt to new domains and tasks.  The basic logic is\n",
    "this:\n",
    "\n",
    "1. The tuple regex_strings defines a list of regular expression\n",
    "   strings.\n",
    "\n",
    "2. The regex_strings strings are put, in order, into a compiled\n",
    "   regular expression object called word_re.\n",
    "\n",
    "3. The tokenization is done by word_re.findall(s), where s is the\n",
    "   user-supplied string, inside the tokenize() method of the class\n",
    "   Tokenizer.\n",
    "\n",
    "4. When instantiating Tokenizer objects, there is a single option:\n",
    "   preserve_case.  By default, it is set to True. If it is set to\n",
    "   False, then the tokenizer will downcase everything except for\n",
    "   emoticons.\n",
    "\n",
    "The __main__ method illustrates by tokenizing a few examples.\n",
    "\n",
    "I've also included a Tokenizer method tokenize_random_tweet(). If the\n",
    "twitter library is installed (http://code.google.com/p/python-twitter/)\n",
    "and Twitter is cooperating, then it should tokenize a random\n",
    "English-language tweet.\n",
    "\n",
    "\n",
    "Julaiti Alafate:\n",
    "  I modified the regex strings to extract URLs in tweets.\n",
    "\"\"\"\n",
    "\n",
    "__author__ = \"Christopher Potts\"\n",
    "__copyright__ = \"Copyright 2011, Christopher Potts\"\n",
    "__credits__ = []\n",
    "__license__ = \"Creative Commons Attribution-NonCommercial-ShareAlike 3.0 Unported License: http://creativecommons.org/licenses/by-nc-sa/3.0/\"\n",
    "__version__ = \"1.0\"\n",
    "__maintainer__ = \"Christopher Potts\"\n",
    "__email__ = \"See the author's website\"\n",
    "\n",
    "######################################################################\n",
    "\n",
    "import re\n",
    "import htmlentitydefs\n",
    "\n",
    "######################################################################\n",
    "# The following strings are components in the regular expression\n",
    "# that is used for tokenizing. It's important that phone_number\n",
    "# appears first in the final regex (since it can contain whitespace).\n",
    "# It also could matter that tags comes after emoticons, due to the\n",
    "# possibility of having text like\n",
    "#\n",
    "#     <:| and some text >:)\n",
    "#\n",
    "# Most imporatantly, the final element should always be last, since it\n",
    "# does a last ditch whitespace-based tokenization of whatever is left.\n",
    "\n",
    "# This particular element is used in a couple ways, so we define it\n",
    "# with a name:\n",
    "emoticon_string = r\"\"\"\n",
    "    (?:\n",
    "      [<>]?\n",
    "      [:;=8]                     # eyes\n",
    "      [\\-o\\*\\']?                 # optional nose\n",
    "      [\\)\\]\\(\\[dDpP/\\:\\}\\{@\\|\\\\] # mouth      \n",
    "      |\n",
    "      [\\)\\]\\(\\[dDpP/\\:\\}\\{@\\|\\\\] # mouth\n",
    "      [\\-o\\*\\']?                 # optional nose\n",
    "      [:;=8]                     # eyes\n",
    "      [<>]?\n",
    "    )\"\"\"\n",
    "\n",
    "# The components of the tokenizer:\n",
    "regex_strings = (\n",
    "    # Phone numbers:\n",
    "    r\"\"\"\n",
    "    (?:\n",
    "      (?:            # (international)\n",
    "        \\+?[01]\n",
    "        [\\-\\s.]*\n",
    "      )?            \n",
    "      (?:            # (area code)\n",
    "        [\\(]?\n",
    "        \\d{3}\n",
    "        [\\-\\s.\\)]*\n",
    "      )?    \n",
    "      \\d{3}          # exchange\n",
    "      [\\-\\s.]*   \n",
    "      \\d{4}          # base\n",
    "    )\"\"\"\n",
    "    ,\n",
    "    # URLs:\n",
    "    r\"\"\"http[s]?://(?:[a-zA-Z]|[0-9]|[$-_@.&+]|[!*\\(\\),]|(?:%[0-9a-fA-F][0-9a-fA-F]))+\"\"\"\n",
    "    ,\n",
    "    # Emoticons:\n",
    "    emoticon_string\n",
    "    ,    \n",
    "    # HTML tags:\n",
    "     r\"\"\"<[^>]+>\"\"\"\n",
    "    ,\n",
    "    # Twitter username:\n",
    "    r\"\"\"(?:@[\\w_]+)\"\"\"\n",
    "    ,\n",
    "    # Twitter hashtags:\n",
    "    r\"\"\"(?:\\#+[\\w_]+[\\w\\'_\\-]*[\\w_]+)\"\"\"\n",
    "    ,\n",
    "    # Remaining word types:\n",
    "    r\"\"\"\n",
    "    (?:[a-z][a-z'\\-_]+[a-z])       # Words with apostrophes or dashes.\n",
    "    |\n",
    "    (?:[+\\-]?\\d+[,/.:-]\\d+[+\\-]?)  # Numbers, including fractions, decimals.\n",
    "    |\n",
    "    (?:[\\w_]+)                     # Words without apostrophes or dashes.\n",
    "    |\n",
    "    (?:\\.(?:\\s*\\.){1,})            # Ellipsis dots. \n",
    "    |\n",
    "    (?:\\S)                         # Everything else that isn't whitespace.\n",
    "    \"\"\"\n",
    "    )\n",
    "\n",
    "######################################################################\n",
    "# This is the core tokenizing regex:\n",
    "    \n",
    "word_re = re.compile(r\"\"\"(%s)\"\"\" % \"|\".join(regex_strings), re.VERBOSE | re.I | re.UNICODE)\n",
    "\n",
    "# The emoticon string gets its own regex so that we can preserve case for them as needed:\n",
    "emoticon_re = re.compile(regex_strings[1], re.VERBOSE | re.I | re.UNICODE)\n",
    "\n",
    "# These are for regularizing HTML entities to Unicode:\n",
    "html_entity_digit_re = re.compile(r\"&#\\d+;\")\n",
    "html_entity_alpha_re = re.compile(r\"&\\w+;\")\n",
    "amp = \"&amp;\"\n",
    "\n",
    "######################################################################\n",
    "\n",
    "class Tokenizer:\n",
    "    def __init__(self, preserve_case=False):\n",
    "        self.preserve_case = preserve_case\n",
    "\n",
    "    def tokenize(self, s):\n",
    "        \"\"\"\n",
    "        Argument: s -- any string or unicode object\n",
    "        Value: a tokenize list of strings; conatenating this list returns the original string if preserve_case=False\n",
    "        \"\"\"        \n",
    "        # Try to ensure unicode:\n",
    "        try:\n",
    "            s = unicode(s)\n",
    "        except UnicodeDecodeError:\n",
    "            s = str(s).encode('string_escape')\n",
    "            s = unicode(s)\n",
    "        # Fix HTML character entitites:\n",
    "        s = self.__html2unicode(s)\n",
    "        # Tokenize:\n",
    "        words = word_re.findall(s)\n",
    "        # Possible alter the case, but avoid changing emoticons like :D into :d:\n",
    "        if not self.preserve_case:            \n",
    "            words = map((lambda x : x if emoticon_re.search(x) else x.lower()), words)\n",
    "        return words\n",
    "\n",
    "    def tokenize_random_tweet(self):\n",
    "        \"\"\"\n",
    "        If the twitter library is installed and a twitter connection\n",
    "        can be established, then tokenize a random tweet.\n",
    "        \"\"\"\n",
    "        try:\n",
    "            import twitter\n",
    "        except ImportError:\n",
    "            print \"Apologies. The random tweet functionality requires the Python twitter library: http://code.google.com/p/python-twitter/\"\n",
    "        from random import shuffle\n",
    "        api = twitter.Api()\n",
    "        tweets = api.GetPublicTimeline()\n",
    "        if tweets:\n",
    "            for tweet in tweets:\n",
    "                if tweet.user.lang == 'en':            \n",
    "                    return self.tokenize(tweet.text)\n",
    "        else:\n",
    "            raise Exception(\"Apologies. I couldn't get Twitter to give me a public English-language tweet. Perhaps try again\")\n",
    "\n",
    "    def __html2unicode(self, s):\n",
    "        \"\"\"\n",
    "        Internal metod that seeks to replace all the HTML entities in\n",
    "        s with their corresponding unicode characters.\n",
    "        \"\"\"\n",
    "        # First the digits:\n",
    "        ents = set(html_entity_digit_re.findall(s))\n",
    "        if len(ents) > 0:\n",
    "            for ent in ents:\n",
    "                entnum = ent[2:-1]\n",
    "                try:\n",
    "                    entnum = int(entnum)\n",
    "                    s = s.replace(ent, unichr(entnum))\t\n",
    "                except:\n",
    "                    pass\n",
    "        # Now the alpha versions:\n",
    "        ents = set(html_entity_alpha_re.findall(s))\n",
    "        ents = filter((lambda x : x != amp), ents)\n",
    "        for ent in ents:\n",
    "            entname = ent[1:-1]\n",
    "            try:            \n",
    "                s = s.replace(ent, unichr(htmlentitydefs.name2codepoint[entname]))\n",
    "            except:\n",
    "                pass                    \n",
    "            s = s.replace(amp, \" and \")\n",
    "        return s"
   ]
  },
  {
   "cell_type": "code",
   "execution_count": 12,
   "metadata": {
    "collapsed": true
   },
   "outputs": [],
   "source": [
    "from math import log\n",
    "\n",
    "tok = Tokenizer(preserve_case=False)\n",
    "\n",
    "def get_rel_popularity(c_k, c_all):\n",
    "    return log(1.0 * c_k / c_all) / log(2)\n",
    "\n",
    "\n",
    "def print_tokens(tokens, gid = None):\n",
    "    group_name = \"overall\"\n",
    "    if gid is not None:\n",
    "        group_name = \"group %d\" % gid\n",
    "    print '=' * 5 + ' ' + group_name + ' ' + '=' * 5\n",
    "    for t, n in tokens:\n",
    "        print \"%s\\t%.4f\" % (fn_encode(t), n)\n",
    "    print"
   ]
  },
  {
   "cell_type": "markdown",
   "metadata": {},
   "source": [
    "(1) Tokenize the tweets using the tokenizer we provided above named `tok`. Count the number of mentions for each tokens regardless of specific user group.\n",
    "\n",
    "Call `print_count` function to show how many different tokens we have.\n",
    "\n",
    "It should print\n",
    "```\n",
    "Number of elements: 8949\n",
    "```"
   ]
  },
  {
   "cell_type": "code",
   "execution_count": 13,
   "metadata": {
    "collapsed": false
   },
   "outputs": [
    {
     "name": "stdout",
     "output_type": "stream",
     "text": [
      "Number of elements: 8953\n"
     ]
    }
   ],
   "source": [
    "# %%time\n",
    "# your code here\n",
    "\n",
    "user_tokens_pair = user_text_pair.mapValues(lambda x: tok.tokenize(x)).cache()\n",
    "\n",
    "distinct_tokens = user_tokens_pair.flatMap(lambda (key, value): value).distinct()\n",
    "print_count(distinct_tokens)"
   ]
  },
  {
   "cell_type": "markdown",
   "metadata": {},
   "source": [
    "(2) Tokens that are mentioned by too few users are usually not very interesting. So we want to only keep tokens that are mentioned by at least 100 users. Please filter out tokens that don't meet this requirement.\n",
    "\n",
    "Call `print_count` function to show how many different tokens we have after the filtering.\n",
    "\n",
    "Call `print_tokens` function to show top 20 most frequent tokens.\n",
    "\n",
    "It should print\n",
    "```\n",
    "Number of elements: 44\n",
    "===== overall =====\n",
    ":\t1388.0000\n",
    "rt\t1237.0000\n",
    ".\t826.0000\n",
    "…\t673.0000\n",
    "the\t623.0000\n",
    "trump\t582.0000\n",
    "to\t499.0000\n",
    ",\t489.0000\n",
    "a\t404.0000\n",
    "is\t376.0000\n",
    "in\t297.0000\n",
    "of\t292.0000\n",
    "and\t288.0000\n",
    "for\t281.0000\n",
    "!\t269.0000\n",
    "?\t210.0000\n",
    "on\t195.0000\n",
    "i\t192.0000\n",
    "you\t191.0000\n",
    "this\t190.0000\n",
    "```"
   ]
  },
  {
   "cell_type": "code",
   "execution_count": 14,
   "metadata": {
    "collapsed": false
   },
   "outputs": [
    {
     "name": "stdout",
     "output_type": "stream",
     "text": [
      "Number of elements: 44\n",
      "===== overall =====\n",
      ":\t1388.0000\n",
      "rt\t1237.0000\n",
      ".\t826.0000\n",
      "…\t673.0000\n",
      "the\t623.0000\n",
      "trump\t582.0000\n",
      "to\t499.0000\n",
      ",\t489.0000\n",
      "a\t404.0000\n",
      "is\t376.0000\n",
      "in\t297.0000\n",
      "of\t292.0000\n",
      "and\t288.0000\n",
      "for\t281.0000\n",
      "!\t269.0000\n",
      "?\t210.0000\n",
      "on\t195.0000\n",
      "i\t192.0000\n",
      "you\t191.0000\n",
      "this\t190.0000\n",
      "\n"
     ]
    }
   ],
   "source": [
    "# your code here\n",
    "user_token_pair = user_tokens_pair.flatMapValues(lambda x: iter(x)).distinct()\n",
    "#print \"user_token_pair\\n\", user_token_pair.take(10) # after distinct()\n",
    "\n",
    "token_user = user_token_pair.map(lambda (x, y): (y, x))\n",
    "\n",
    "GROUP_NUM = 8\n",
    "\n",
    "def mapToGroup(x):\n",
    "    token, user = x\n",
    "    if user in partition:\n",
    "        gid = partition[user]\n",
    "    else:\n",
    "        gid = 7\n",
    "    value = [0] * GROUP_NUM\n",
    "    value[gid] = 1\n",
    "    return (token, value)\n",
    "    \n",
    "# (token, [0, 0, 0, 1, 0])\n",
    "token_group = token_user.map(mapToGroup)\n",
    "\n",
    "\n",
    "# (token, ([2, 1, 0, ...], totalCount))\n",
    "token_group_count = token_group.combineByKey(lambda value: (value, 1),\n",
    "                                             lambda x, value: (map(lambda x,y: x+y, value,x[0]), x[1]+1),\n",
    "                                             lambda x, y: (map(lambda x,y:x+y, x[0], y[0]), x[1]+y[1]))\n",
    "\n",
    "token_group_count_filter = token_group_count.filter(lambda (key, value): value[1] >= 100).cache()\n",
    "\n",
    "token_userCount_filter = token_group_count_filter.mapValues(lambda value: value[1])\n",
    "\n",
    "\n",
    "token_userCount_filter_sort = token_userCount_filter.sortBy(lambda x: x[1], False)\n",
    "print_count(token_userCount_filter_sort)\n",
    "print_tokens(token_userCount_filter_sort.take(20))"
   ]
  },
  {
   "cell_type": "markdown",
   "metadata": {},
   "source": [
    "(3) For all tokens that are mentioned by at least 100 users, compute their relative popularity in each user group. Then print the top 10 tokens with highest relative popularity in each user group. In case two tokens have same relative popularity, break the tie by printing the alphabetically smaller one.\n",
    "\n",
    "**Hint:** Let the relative popularity of a token $t$ be $p$. The order of the items will be satisfied by sorting them using (-p, t) as the key.\n",
    "\n",
    "It should print\n",
    "```\n",
    "===== group 0 =====\n",
    "...\t-3.5648\n",
    "at\t-3.5983\n",
    "hillary\t-4.0875\n",
    "i\t-4.1255\n",
    "bernie\t-4.1699\n",
    "not\t-4.2479\n",
    "https\t-4.2695\n",
    "he\t-4.2801\n",
    "in\t-4.3074\n",
    "are\t-4.3646\n",
    "\n",
    "===== group 1 =====\n",
    "#demdebate\t-2.4391\n",
    "-\t-2.6202\n",
    "&\t-2.7472\n",
    "amp\t-2.7472\n",
    "clinton\t-2.7570\n",
    ";\t-2.7980\n",
    "sanders\t-2.8838\n",
    "?\t-2.9069\n",
    "in\t-2.9664\n",
    "if\t-3.0138\n",
    "\n",
    "===== group 2 =====\n",
    "are\t-4.6865\n",
    "and\t-4.7105\n",
    "bernie\t-4.7549\n",
    "at\t-4.7682\n",
    "sanders\t-4.9542\n",
    "that\t-5.0224\n",
    "in\t-5.0444\n",
    "donald\t-5.0618\n",
    "a\t-5.0732\n",
    "#demdebate\t-5.1396\n",
    "\n",
    "===== group 3 =====\n",
    "#demdebate\t-1.3847\n",
    "bernie\t-1.8480\n",
    "sanders\t-2.1887\n",
    "of\t-2.2356\n",
    "that\t-2.3785\n",
    "the\t-2.4376\n",
    "…\t-2.4403\n",
    "clinton\t-2.4467\n",
    "hillary\t-2.4594\n",
    "be\t-2.5465\n",
    "\n",
    "===== group 4 =====\n",
    "hillary\t-3.7395\n",
    "sanders\t-3.9542\n",
    "of\t-4.0199\n",
    "clinton\t-4.0790\n",
    "at\t-4.1832\n",
    "in\t-4.2143\n",
    "a\t-4.2659\n",
    "on\t-4.2854\n",
    ".\t-4.3681\n",
    "the\t-4.4251\n",
    "\n",
    "===== group 5 =====\n",
    "cruz\t-2.3861\n",
    "he\t-2.6280\n",
    "are\t-2.7796\n",
    "will\t-2.7829\n",
    "the\t-2.8568\n",
    "is\t-2.8822\n",
    "for\t-2.9250\n",
    "that\t-2.9349\n",
    "of\t-2.9804\n",
    "this\t-2.9849\n",
    "\n",
    "===== group 6 =====\n",
    "@realdonaldtrump\t-1.1520\n",
    "cruz\t-1.4532\n",
    "https\t-1.5222\n",
    "!\t-1.5479\n",
    "not\t-1.8904\n",
    "…\t-1.9269\n",
    "will\t-2.0124\n",
    "it\t-2.0345\n",
    "this\t-2.1104\n",
    "to\t-2.1685\n",
    "\n",
    "===== group 7 =====\n",
    "donald\t-0.6422\n",
    "...\t-0.7922\n",
    "sanders\t-1.0282\n",
    "trump\t-1.1296\n",
    "bernie\t-1.2106\n",
    "-\t-1.2253\n",
    "you\t-1.2376\n",
    "clinton\t-1.2511\n",
    "if\t-1.2880\n",
    "i\t-1.2996\n",
    "```"
   ]
  },
  {
   "cell_type": "code",
   "execution_count": 15,
   "metadata": {
    "collapsed": false
   },
   "outputs": [
    {
     "name": "stdout",
     "output_type": "stream",
     "text": [
      "===== group 0 =====\n",
      "...\t-3.5648\n",
      "at\t-3.5983\n",
      "hillary\t-4.0875\n",
      "i\t-4.1255\n",
      "bernie\t-4.1699\n",
      "not\t-4.2479\n",
      "https\t-4.2695\n",
      "he\t-4.2801\n",
      "in\t-4.3074\n",
      "are\t-4.3646\n",
      "\n",
      "===== group 1 =====\n",
      "#demdebate\t-2.4391\n",
      "-\t-2.6202\n",
      "&\t-2.7472\n",
      "amp\t-2.7472\n",
      "clinton\t-2.7570\n",
      ";\t-2.7980\n",
      "sanders\t-2.8838\n",
      "?\t-2.9069\n",
      "in\t-2.9664\n",
      "if\t-3.0138\n",
      "\n",
      "===== group 2 =====\n",
      "are\t-4.6865\n",
      "and\t-4.7105\n",
      "bernie\t-4.7549\n",
      "at\t-4.7682\n",
      "sanders\t-4.9542\n",
      "that\t-5.0224\n",
      "in\t-5.0444\n",
      "donald\t-5.0618\n",
      "a\t-5.0732\n",
      "#demdebate\t-5.1396\n",
      "\n",
      "===== group 3 =====\n",
      "#demdebate\t-1.3847\n",
      "bernie\t-1.8480\n",
      "sanders\t-2.1887\n",
      "of\t-2.2356\n",
      "that\t-2.3785\n",
      "the\t-2.4376\n",
      "…\t-2.4403\n",
      "clinton\t-2.4467\n",
      "hillary\t-2.4594\n",
      "be\t-2.5465\n",
      "\n",
      "===== group 4 =====\n",
      "hillary\t-3.7395\n",
      "sanders\t-3.9542\n",
      "of\t-4.0199\n",
      "clinton\t-4.0790\n",
      "at\t-4.1832\n",
      "in\t-4.2143\n",
      "a\t-4.2659\n",
      "on\t-4.2854\n",
      ".\t-4.3681\n",
      "the\t-4.4251\n",
      "\n",
      "===== group 5 =====\n",
      "cruz\t-2.3861\n",
      "he\t-2.6280\n",
      "are\t-2.7796\n",
      "will\t-2.7829\n",
      "the\t-2.8568\n",
      "is\t-2.8822\n",
      "for\t-2.9250\n",
      "that\t-2.9349\n",
      "of\t-2.9804\n",
      "this\t-2.9849\n",
      "\n",
      "===== group 6 =====\n",
      "@realdonaldtrump\t-1.1520\n",
      "cruz\t-1.4532\n",
      "https\t-1.5222\n",
      "!\t-1.5479\n",
      "not\t-1.8904\n",
      "…\t-1.9269\n",
      "will\t-2.0124\n",
      "it\t-2.0345\n",
      "this\t-2.1104\n",
      "to\t-2.1685\n",
      "\n",
      "===== group 7 =====\n",
      "donald\t-0.6422\n",
      "...\t-0.7922\n",
      "sanders\t-1.0282\n",
      "trump\t-1.1296\n",
      "bernie\t-1.2106\n",
      "-\t-1.2253\n",
      "you\t-1.2376\n",
      "clinton\t-1.2511\n",
      "if\t-1.2880\n",
      "i\t-1.2996\n",
      "\n"
     ]
    }
   ],
   "source": [
    "# your code here\n",
    "\n",
    "for i in range(GROUP_NUM):\n",
    "    RDD_rel = token_group_count_filter.filter(lambda (token, value): value[0][i] > 0) # filter out the tokens not in the group\n",
    "    RDD_rel = RDD_rel.map(lambda (key, value): (key, get_rel_popularity(value[0][i], value[1])))\n",
    "    \n",
    "    # In case two tokens have same relative popularity, break the tie by printing the alphabetically smaller one.\n",
    "    '''\n",
    "    remove_same = RDD_rel.map(lambda (k, v): (v, k)).reduceByKey(lambda x, y: min(x, y))\n",
    "    remove_same = remove_same.sortByKey(False).cache()\n",
    "    print_tokens(map(lambda (k, v): (v, k), remove_same.take(10)), i)\n",
    "    '''\n",
    "    RDD_rel = RDD_rel.sortBy(lambda (t, p): (-p, t)).cache()\n",
    "    print_tokens(RDD_rel.take(10), i)    "
   ]
  }
 ],
 "metadata": {
  "kernelspec": {
   "display_name": "Python 2",
   "language": "python",
   "name": "python2"
  },
  "language_info": {
   "codemirror_mode": {
    "name": "ipython",
    "version": 2
   },
   "file_extension": ".py",
   "mimetype": "text/x-python",
   "name": "python",
   "nbconvert_exporter": "python",
   "pygments_lexer": "ipython2",
   "version": "2.7.11"
  }
 },
 "nbformat": 4,
 "nbformat_minor": 0
}
